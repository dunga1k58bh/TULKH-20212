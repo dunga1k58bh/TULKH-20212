{
 "cells": [
  {
   "cell_type": "code",
   "execution_count": 2,
   "id": "37b3105b",
   "metadata": {},
   "outputs": [],
   "source": [
    "import numpy as np\n",
    "import time"
   ]
  },
  {
   "cell_type": "code",
   "execution_count": 3,
   "id": "0f3a512b",
   "metadata": {},
   "outputs": [],
   "source": [
    "def ranint(a, b):\n",
    "    return np.random.randint(a, b)"
   ]
  },
  {
   "cell_type": "code",
   "execution_count": 4,
   "id": "f40e5af8",
   "metadata": {},
   "outputs": [],
   "source": [
    "def convert(lis):\n",
    "    A = []\n",
    "    for i in lis:\n",
    "        A.append(str(i) + ' ')\n",
    "    A.append('\\n')\n",
    "    return A"
   ]
  },
  {
   "cell_type": "code",
   "execution_count": 5,
   "id": "da178e95",
   "metadata": {},
   "outputs": [],
   "source": [
    "def generate(seed, filename, N, M, K, range_Q, range_Qk, range_dis):\n",
    "    '''\n",
    "    seed: random\n",
    "    filename: tên file\n",
    "    N: phạm vi N (số hành khách)\n",
    "    M: phạm vi M (số gói hàng)\n",
    "    K: phạm vi K (số taxi)\n",
    "    range_Q: phạm vi khối lượng gói hàng [a, b]\n",
    "    range_Qk: phạm vi taxi vận chuyển tối đa [a2, b2]\n",
    "    range_dis: 1/2 phạm vi khoảng cách [c2, d2]\n",
    "    '''\n",
    "    np.random.seed(seed)\n",
    "    file = open(filename, 'w')\n",
    "    N = N\n",
    "    M = M\n",
    "    K = K\n",
    "    Q = [ranint(range_Q[0], range_Q[1]) for i in range (M)]\n",
    "    J = 2*N + 2*M + 1\n",
    "    Qk = [ranint(range_Qk[0], range_Qk[1]) for i in range(K)]\n",
    "    dis = np.zeros((J, J), dtype=int)\n",
    "    A = np.random.randint(low= range_dis[0]/2, high=range_dis[1]/2, size=(J, J))\n",
    "    B = (A + A.T)\n",
    "    for i in range(J):\n",
    "        B[i][i] = 0\n",
    "    file.writelines(convert([N, M, K]))\n",
    "    file.writelines(convert(Q))\n",
    "    file.writelines(convert(Qk))\n",
    "    for i in range(J):\n",
    "        file.writelines(convert(B[i]))\n",
    "    file.close()"
   ]
  },
  {
   "cell_type": "code",
   "execution_count": 12,
   "id": "bc091c73",
   "metadata": {},
   "outputs": [],
   "source": [
    "generate(int(time.time()), 'testcase4/test3.txt', 10, 15, 10, [10, 50], [50, 100], [50, 200])"
   ]
  },
  {
   "cell_type": "code",
   "execution_count": null,
   "id": "76c404a2",
   "metadata": {},
   "outputs": [],
   "source": []
  }
 ],
 "metadata": {
  "kernelspec": {
   "display_name": "Python 3.8.10 ('.venv': venv)",
   "language": "python",
   "name": "python3"
  },
  "language_info": {
   "codemirror_mode": {
    "name": "ipython",
    "version": 3
   },
   "file_extension": ".py",
   "mimetype": "text/x-python",
   "name": "python",
   "nbconvert_exporter": "python",
   "pygments_lexer": "ipython3",
   "version": "3.8.10"
  },
  "vscode": {
   "interpreter": {
    "hash": "7ba67873556b4e2a456378139565c8b928485f65a504ab2996313bf43dd64117"
   }
  }
 },
 "nbformat": 4,
 "nbformat_minor": 5
}
