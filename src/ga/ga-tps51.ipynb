{
 "cells": [
  {
   "cell_type": "code",
   "execution_count": 1,
   "metadata": {},
   "outputs": [],
   "source": [
    "import numpy as np\n",
    "import pandas as pd\n",
    "import random\n",
    "import math"
   ]
  },
  {
   "cell_type": "markdown",
   "metadata": {},
   "source": [
    "Config"
   ]
  },
  {
   "cell_type": "code",
   "execution_count": 2,
   "metadata": {},
   "outputs": [],
   "source": [
    "def create_data_model(path):\n",
    "    #Store the data model of the problem\n",
    "    data = {}\n",
    "    with open (path, \"r\") as f:\n",
    "        lines = f.readlines()\n",
    "        line = list(map(int,lines[0].strip().split()))\n",
    "        N = line[0]\n",
    "        M = line[1]\n",
    "        SIGMA = N + M\n",
    "        K = line[2]\n",
    "        p = np.zeros(2*SIGMA +1, dtype='int')\n",
    "        q = np.zeros(2*SIGMA +1, dtype='int')\n",
    "        Q = np.zeros(K+1, dtype='int')\n",
    "        d = np.zeros((2*SIGMA +1, 2*SIGMA+1), dtype='int')\n",
    "\n",
    "        line = list(map(int,lines[1].strip().split()))\n",
    "        for m in range(1,2*SIGMA +1):\n",
    "            if (m<=N):\n",
    "                p[m] = 1\n",
    "            elif (m> SIGMA and m <= SIGMA + N):\n",
    "                p[m] = -1\n",
    "            if (m > N and m <= SIGMA):\n",
    "                q[m] = line[m-N-1]\n",
    "            elif (m>SIGMA+N and m <=2*SIGMA):\n",
    "                q[m] = line[m-SIGMA-N-1]*(-1)\n",
    "            else :\n",
    "                q[m] = 0\n",
    "                \n",
    "\n",
    "        line = list(map(int,lines[2].strip().split()))\n",
    "        for k in range(1,K+1):\n",
    "            Q[k] = line[k-1]\n",
    "\n",
    "        for i in range (0, 2*SIGMA+1):\n",
    "            line = list(map(int,lines[i+3].strip().split()))\n",
    "            for j in range(0, 2*SIGMA+1):\n",
    "                d[i][j] = line[j]\n",
    "\n",
    "        data['N'] = N\n",
    "        data['M'] = M\n",
    "        data['q'] = q.tolist()\n",
    "        data['p'] = p.tolist()\n",
    "        data['Q'] = Q.tolist()\n",
    "        data['d'] = d.tolist()\n",
    "        data['K'] = K\n",
    "        data['root'] = 0\n",
    "        data['SIGMA'] = SIGMA\n",
    "    return data\n"
   ]
  },
  {
   "cell_type": "code",
   "execution_count": 5,
   "metadata": {},
   "outputs": [
    {
     "data": {
      "text/plain": [
       "{'N': 2,\n",
       " 'M': 3,\n",
       " 'q': [0, 0, 0, 3, 8, 12, 0, 0, -3, -8, -12],\n",
       " 'p': [0, 1, 1, 0, 0, 0, -1, -1, 0, 0, 0],\n",
       " 'Q': [0, 15, 20, 13],\n",
       " 'd': [[0, 3, 4, 5, 6, 3, 4, 5, 6, 4, 3],\n",
       "  [3, 0, 4, 5, 6, 3, 4, 5, 6, 12, 2],\n",
       "  [1, 3, 0, 5, 6, 3, 34, 5, 6, 4, 1],\n",
       "  [8, 3, 4, 0, 6, 3, 4, 5, 6, 11, 21],\n",
       "  [9, 3, 4, 5, 0, 3, 4, 5, 6, 32, 13],\n",
       "  [2, 3, 44, 5, 33, 0, 4, 5, 6, 43, 4],\n",
       "  [3, 3, 4, 5, 6, 34, 0, 5, 6, 23, 1],\n",
       "  [10, 4, 5, 6, 3, 4, 0, 6, 55, 33, 32],\n",
       "  [14, 3, 4, 5, 6, 3, 4, 5, 0, 5, 31],\n",
       "  [4, 5, 6, 32, 0, 4, 5, 6, 2, 4, 2],\n",
       "  [4, 5, 6, 32, 0, 4, 5, 6, 2, 4, 2]],\n",
       " 'K': 3,\n",
       " 'root': 0,\n",
       " 'SIGMA': 5}"
      ]
     },
     "execution_count": 5,
     "metadata": {},
     "output_type": "execute_result"
    }
   ],
   "source": [
    "data = create_data_model('../../res/data.text')\n",
    "data"
   ]
  },
  {
   "cell_type": "markdown",
   "metadata": {},
   "source": [
    "Global variable"
   ]
  },
  {
   "cell_type": "code",
   "execution_count": 72,
   "metadata": {},
   "outputs": [],
   "source": [
    "class Individual:\n",
    "    def __init__(self, data):\n",
    "        self.SIGMA = data['SIGMA']\n",
    "        self.K = data['K']\n",
    "        self.serves = []\n",
    "        "
   ]
  },
  {
   "cell_type": "code",
   "execution_count": 73,
   "metadata": {},
   "outputs": [],
   "source": [
    "def weight(path):\n",
    "    weight = 0\n",
    "    for i in range(1, N):\n",
    "        weight = weight + D[path[i-1]][path[i]]\n",
    "\n",
    "    weight = weight+ D[path[N-1]][path[0]]\n",
    "    return weight"
   ]
  },
  {
   "cell_type": "code",
   "execution_count": null,
   "metadata": {},
   "outputs": [
    {
     "ename": "",
     "evalue": "",
     "output_type": "error",
     "traceback": [
      "\u001b[1;31mFailed to start the Kernel. \n",
      "Canceled. \n",
      "View Jupyter <a href='command:jupyter.viewOutput'>log</a> for further details."
     ]
    }
   ],
   "source": [
    "def checkSolution(s:Sample):\n",
    "    check = True\n",
    "    for i in range(N):\n",
    "        if i not in s.path:\n",
    "            check = False\n",
    "            break\n",
    "    return check"
   ]
  },
  {
   "cell_type": "code",
   "execution_count": 75,
   "metadata": {},
   "outputs": [],
   "source": [
    "population = []\n",
    "def init_population():\n",
    "    global M, N, population\n",
    "    population = []\n",
    "    for i in range(M):\n",
    "        path = random.sample(range(N),N)\n",
    "        w = weight(path)\n",
    "        sample = Sample()\n",
    "        sample.path = path\n",
    "        sample.weight = w\n",
    "        population.append(sample)"
   ]
  },
  {
   "cell_type": "markdown",
   "metadata": {},
   "source": [
    "Operator"
   ]
  },
  {
   "cell_type": "code",
   "execution_count": 76,
   "metadata": {},
   "outputs": [],
   "source": [
    "def hybridize(s1:Sample, s2: Sample):\n",
    "    s3 = Sample()\n",
    "    p = random.randint(0, N-1)\n",
    "\n",
    "    for i in range (p, N):\n",
    "        s3.path[i-p] = s2.path[i]\n",
    "\n",
    "    k = N-p\n",
    "    for a in s1.path:\n",
    "        if a not in s3.path:\n",
    "            s3.path[k] = a\n",
    "            k = k+1\n",
    "            if (k >= N ) :break\n",
    "    s3.weight = weight(s3.path)\n",
    "    return s3\n"
   ]
  },
  {
   "cell_type": "code",
   "execution_count": 77,
   "metadata": {},
   "outputs": [],
   "source": [
    "def mutate(s:Sample):\n",
    "    s_child = Sample()\n",
    "    s_child.path = s.path.copy()\n",
    "    mutateCoefficient = int(N*0.1)\n",
    "    count = random.randint(0, mutateCoefficient)\n",
    "    for i in range(count):\n",
    "        p1 = random.randint(0,N-1)\n",
    "        p2 = random.randint(0,N-1)\n",
    "\n",
    "        temp = s_child.path[p1]\n",
    "        s_child.path[p1] = s_child.path[p2]\n",
    "        s_child.path[p2] = temp\n",
    "\n",
    "    s_child.weight = weight(s_child.path)\n",
    "    return s_child\n"
   ]
  },
  {
   "cell_type": "code",
   "execution_count": 78,
   "metadata": {},
   "outputs": [],
   "source": [
    "def sortPopulation():\n",
    "    global population\n",
    "    "
   ]
  },
  {
   "cell_type": "markdown",
   "metadata": {},
   "source": [
    "GA algorithm"
   ]
  },
  {
   "cell_type": "code",
   "execution_count": 88,
   "metadata": {},
   "outputs": [],
   "source": [
    "def GA(fitness_threshold, M, r, m):\n",
    "    global population\n",
    "\n",
    "    solution = Sample()\n",
    "    solution.weight = 9999999\n",
    "\n",
    "    init_population()\n",
    "    population.sort(key= lambda x: x.weight)\n",
    "\n",
    "    num_standard_sample = int((1-r)*M)\n",
    "    num_hybrid_sample = M - num_standard_sample\n",
    "\n",
    "    while (fitness_threshold > 0):\n",
    "        fitness_threshold = fitness_threshold -1\n",
    "        #Hybridize\n",
    "        new_population = []\n",
    "        new_population = population[: num_standard_sample]\n",
    "\n",
    "        hybridize_pop = random.sample(population, num_hybrid_sample)\n",
    "        random.shuffle(hybridize_pop)\n",
    "\n",
    "        i = 0\n",
    "        while i < int(num_hybrid_sample):\n",
    "            s1 = hybridize(hybridize_pop[i], hybridize_pop[i+1])\n",
    "            s2 = hybridize(hybridize_pop[i+1], hybridize_pop[i])\n",
    "            new_population.append(s1)\n",
    "            new_population.append(s2)\n",
    "            i = i + 2\n",
    "\n",
    "        for sample in new_population:\n",
    "            a1 = mutate(sample)\n",
    "            sample = a1\n",
    "\n",
    "        population = new_population\n",
    "        population.sort(key= lambda x: x.weight)\n",
    "\n",
    "        if (population[0].weight < solution.weight):\n",
    "            solution.path = population[0].path\n",
    "            solution.weight = population[0].weight\n",
    "\n",
    "        \n",
    "    return solution\n"
   ]
  },
  {
   "cell_type": "code",
   "execution_count": 89,
   "metadata": {},
   "outputs": [],
   "source": [
    "solution = GA(1000, M, 0.5, 0.2)"
   ]
  },
  {
   "cell_type": "code",
   "execution_count": 90,
   "metadata": {},
   "outputs": [
    {
     "name": "stdout",
     "output_type": "stream",
     "text": [
      "[26  5 25 30 27  7 47 22  6 42 23 13 24 17  3 12 40 18 39 41 16 46 45 10\n",
      " 31 21  0  1 19  2 35 34 28 20 49 33  8 15 37  4 48 38 29  9 32 44 14 43\n",
      " 36 11 50]\n",
      "503.00533817651944\n"
     ]
    }
   ],
   "source": [
    "print(solution.path)\n",
    "print(solution.weight)\n"
   ]
  },
  {
   "cell_type": "code",
   "execution_count": 91,
   "metadata": {},
   "outputs": [
    {
     "name": "stdout",
     "output_type": "stream",
     "text": [
      "[28 15 10 31 50 45 11 46  3 17 16 36 14 32 44 43 41 18 39 40 12 24 13 23\n",
      " 42  6 22  5 47 26  0 21 27  7 25 30  2 35 34 19  1 37  4 48  9 38 29 33\n",
      "  8 49 20]\n",
      "466.7547525135038\n"
     ]
    }
   ],
   "source": [
    "solution = GA(5000, M, 0.5, 0.2)\n",
    "print(solution.path)\n",
    "print(solution.weight)"
   ]
  },
  {
   "cell_type": "code",
   "execution_count": 92,
   "metadata": {},
   "outputs": [
    {
     "name": "stdout",
     "output_type": "stream",
     "text": [
      "[30 25  7 47  5 22  6 42 23 13 24 17 46 11 45 50 26  1 28 20 15 49 33 29\n",
      "  8 48  9 38 32 44 14 43 41 18 39 40 12  3 16 36  4 37 10 31  0 21 19 34\n",
      " 35  2 27]\n",
      "446.6227640876554\n"
     ]
    }
   ],
   "source": [
    "solution = GA(10000, M, 0.5, 0.2)\n",
    "print(solution.path)\n",
    "print(solution.weight)"
   ]
  },
  {
   "cell_type": "code",
   "execution_count": 93,
   "metadata": {},
   "outputs": [
    {
     "name": "stdout",
     "output_type": "stream",
     "text": [
      "[37  4 11 46 17  3 41 18 39 40 12 24 13 23 42  6 22 47  5 26 45 50 16 36\n",
      " 43 14 44 32 38  9 48  8 49 15 19 34 35  2 27 30 25  7 21  0 31 10  1 28\n",
      " 20 33 29]\n",
      "458.47354261492757\n"
     ]
    }
   ],
   "source": [
    "solution = GA(100000, M, 0.5, 0.2)\n",
    "print(solution.path)\n",
    "print(solution.weight)"
   ]
  }
 ],
 "metadata": {
  "kernelspec": {
   "display_name": "Python 3.8.10 ('.venv': venv)",
   "language": "python",
   "name": "python3"
  },
  "language_info": {
   "codemirror_mode": {
    "name": "ipython",
    "version": 3
   },
   "file_extension": ".py",
   "mimetype": "text/x-python",
   "name": "python",
   "nbconvert_exporter": "python",
   "pygments_lexer": "ipython3",
   "version": "3.8.10"
  },
  "orig_nbformat": 4,
  "vscode": {
   "interpreter": {
    "hash": "7ba67873556b4e2a456378139565c8b928485f65a504ab2996313bf43dd64117"
   }
  }
 },
 "nbformat": 4,
 "nbformat_minor": 2
}
